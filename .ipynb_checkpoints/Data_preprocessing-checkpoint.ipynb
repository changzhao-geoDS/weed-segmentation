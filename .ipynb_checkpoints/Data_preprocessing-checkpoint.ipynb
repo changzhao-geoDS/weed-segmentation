{
 "cells": [
  {
   "cell_type": "code",
   "execution_count": null,
   "id": "7b85d5b1",
   "metadata": {},
   "outputs": [],
   "source": [
    "# this script divides the input image slices into 256 * 256 image patches, \n",
    "# perform data augmentation, and generate the training and validation sets (2 csv files containing paths to image patches). "
   ]
  },
  {
   "cell_type": "code",
   "execution_count": null,
   "id": "3e816633",
   "metadata": {},
   "outputs": [],
   "source": [
    "import cv2\n",
    "import numpy as np\n",
    "from glob import glob\n",
    "import csv\n",
    "import matplotlib.pyplot as plt"
   ]
  },
  {
   "cell_type": "code",
   "execution_count": null,
   "id": "1008b8a0",
   "metadata": {},
   "outputs": [],
   "source": [
    "slice_number = 'Slice_1' # change here please!!!\n",
    "mask = cv2.imread(slice_number + '_weed_mask.png')[:,:,0]\n",
    "weed = cv2.imread(slice_number + '.png')\n",
    "height, width = mask.shape\n",
    "patch_size = 256\n",
    "grid_size_x = int(height/patch_size) - 1\n",
    "grid_size_y = int(width/patch_size ) - 1"
   ]
  },
  {
   "cell_type": "code",
   "execution_count": null,
   "id": "795e9b45",
   "metadata": {},
   "outputs": [],
   "source": [
    "n = 0\n",
    "for i in range(grid_size_x):\n",
    "    for j in range(grid_size_y):\n",
    "        patch_image = weed[i*patch_size:(i+1)*patch_size, j*patch_size:(j+1)*patch_size, :]\n",
    "        patch_mask = mask[i*patch_size:(i+1)*patch_size, j*patch_size:(j+1)*patch_size]\n",
    "        \n",
    "        if np.mean(patch_mask) > 0:\n",
    "            n = n + 1\n",
    "        \n",
    "            output_image_name = './preprocessing/' + slice_number + '_image_patch_' + str(i) + '_' + str(j) + '.png'\n",
    "            output_mask_name = './preprocessing/' + slice_number + '_mask_patch_' + str(i) +  '_' +  str(j) + '.png'\n",
    "\n",
    "            cv2.imwrite(output_image_name, patch_image)\n",
    "            cv2.imwrite(output_mask_name, patch_mask)\n",
    "            \n",
    "print(n)"
   ]
  },
  {
   "cell_type": "code",
   "execution_count": null,
   "id": "bd259f9f",
   "metadata": {},
   "outputs": [],
   "source": [
    "image_names = glob('./preprocessing/*image_patch*')"
   ]
  },
  {
   "cell_type": "code",
   "execution_count": null,
   "id": "7fca554b",
   "metadata": {},
   "outputs": [],
   "source": [
    "### Data augmentations\n",
    "\n",
    "for i in range(len(image_names)):\n",
    "    image = cv2.imread(image_names[i])\n",
    "    mask = cv2.imread(image_names[i].replace('image', 'mask'))\n",
    "    \n",
    "    image_flipped = cv2.flip(image,0)\n",
    "    mask_flipped = cv2.flip(mask,0)\n",
    "    \n",
    "    cv2.imwrite(image_names[i].replace('image_patch', 'image_patch_vertically_flipped'), image_flipped)\n",
    "    cv2.imwrite(image_names[i].replace('image_patch', 'mask_patch_vertically_flipped'), mask_flipped)\n",
    "    \n",
    "    image_flipped = cv2.flip(image,1)\n",
    "    mask_flipped = cv2.flip(mask,1)\n",
    "    \n",
    "    cv2.imwrite(image_names[i].replace('image_patch', 'image_patch_horizontally_flipped'), image_flipped)\n",
    "    cv2.imwrite(image_names[i].replace('image_patch', 'mask_patch_horizontally_flipped'), mask_flipped)\n",
    "    "
   ]
  },
  {
   "cell_type": "code",
   "execution_count": null,
   "id": "fb179d49",
   "metadata": {},
   "outputs": [],
   "source": [
    "# repeat the above steps for all input image slices, you can also write a for loop"
   ]
  },
  {
   "cell_type": "code",
   "execution_count": null,
   "id": "a961b041",
   "metadata": {},
   "outputs": [],
   "source": [
    "### list names of all image patches\n",
    "image_list = glob('./preprocessing/Slice*image_patch*')"
   ]
  },
  {
   "cell_type": "code",
   "execution_count": null,
   "id": "5008331e",
   "metadata": {},
   "outputs": [],
   "source": [
    "output_path = './training_data/train.csv'"
   ]
  },
  {
   "cell_type": "code",
   "execution_count": null,
   "id": "f066156c",
   "metadata": {},
   "outputs": [],
   "source": [
    "with open(output_path, 'w', newline='') as csvfile:\n",
    "    csv_writer = csv.writer(csvfile)\n",
    "    csv_writer.writerow(['image'])\n",
    "    for string in image_list:\n",
    "        csv_writer.writerow([string])"
   ]
  },
  {
   "cell_type": "code",
   "execution_count": null,
   "id": "c5e10ece",
   "metadata": {},
   "outputs": [],
   "source": [
    "# randomly move 20% of the data from ./training_data/train.csv to ./training_data/val.csv"
   ]
  }
 ],
 "metadata": {
  "kernelspec": {
   "display_name": "Python 3 (ipykernel)",
   "language": "python",
   "name": "python3"
  },
  "language_info": {
   "codemirror_mode": {
    "name": "ipython",
    "version": 3
   },
   "file_extension": ".py",
   "mimetype": "text/x-python",
   "name": "python",
   "nbconvert_exporter": "python",
   "pygments_lexer": "ipython3",
   "version": "3.10.9"
  }
 },
 "nbformat": 4,
 "nbformat_minor": 5
}
