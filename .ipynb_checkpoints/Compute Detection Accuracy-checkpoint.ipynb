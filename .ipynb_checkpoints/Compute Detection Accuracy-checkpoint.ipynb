{
 "cells": [
  {
   "cell_type": "code",
   "execution_count": null,
   "id": "1e750926",
   "metadata": {},
   "outputs": [],
   "source": [
    "import numpy as np\n",
    "from sklearn.metrics import confusion_matrix\n",
    "import imageio\n",
    "\n",
    "# load the input weed image\n",
    "weed_image = imageio.imread('./weed_image.tif')\n",
    "\n",
    "# Load the ground truth mask for weed\n",
    "ground_truth = imageio.imread(\"./weed_mask.tif\")\n",
    "\n",
    "# Load the model prediction\n",
    "model_prediction = imageio.imread(\"./predicted_weed_mask.tif\")\n",
    "\n",
    "# Create a mask for pixels not equal to 255 - excluding areas outside the targeted study boundary\n",
    "mask = weed_image[:,:,0] != 255\n",
    "\n",
    "# Apply the mask to ground_truth and model_prediction\n",
    "ground_truth = ground_truth[mask]\n",
    "model_prediction = model_prediction[mask]\n",
    "\n",
    "# Convert the ground truth and prediction to binary images\n",
    "ground_truth[ground_truth > 0] = 1\n",
    "model_prediction[model_prediction > 0] = 1\n",
    "\n",
    "# Compute the confusion matrix\n",
    "cm = confusion_matrix(ground_truth, model_prediction, labels=[0, 1])\n",
    "\n",
    "# Compute the sensitivity, specificity, and accuracy\n",
    "tn, fp, fn, tp = cm.ravel()\n",
    "sensitivity = tp / (tp + fn)\n",
    "specificity = tn / (tn + fp)\n",
    "accuracy = (tp + tn) / (tp + tn + fp + fn)\n",
    "\n",
    "# Calculate precision and recall\n",
    "precision = tp / (tp + fp)\n",
    "recall = sensitivity\n",
    "\n",
    "# Calculate the F1-score\n",
    "f1_score = 2 * (precision * recall) / (precision + recall)\n",
    "\n",
    "# Print the results\n",
    "print(\"Sensitivity:\", sensitivity)\n",
    "print(\"Specificity:\", specificity)\n",
    "print(\"Accuracy:\", accuracy)\n",
    "print(\"Precision:\", precision)  \n",
    "print(\"F1-score:\", f1_score)\n",
    "\n"
   ]
  }
 ],
 "metadata": {
  "kernelspec": {
   "display_name": "Python 3 (ipykernel)",
   "language": "python",
   "name": "python3"
  },
  "language_info": {
   "codemirror_mode": {
    "name": "ipython",
    "version": 3
   },
   "file_extension": ".py",
   "mimetype": "text/x-python",
   "name": "python",
   "nbconvert_exporter": "python",
   "pygments_lexer": "ipython3",
   "version": "3.10.9"
  }
 },
 "nbformat": 4,
 "nbformat_minor": 5
}
