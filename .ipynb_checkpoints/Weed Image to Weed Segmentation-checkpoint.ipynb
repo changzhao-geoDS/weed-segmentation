{
 "cells": [
  {
   "cell_type": "code",
   "execution_count": null,
   "id": "1f56cc40",
   "metadata": {},
   "outputs": [],
   "source": [
    "# this script applies the trained model for image segmentation"
   ]
  },
  {
   "cell_type": "code",
   "execution_count": null,
   "id": "eb8613cd",
   "metadata": {
    "tags": []
   },
   "outputs": [],
   "source": [
    "import tensorflow as tf\n",
    "import numpy as np\n",
    "import cv2\n",
    "import matplotlib.pyplot as plt\n",
    "import matplotlib.pyplot as plt\n",
    "import SimpleITK as sitk"
   ]
  },
  {
   "cell_type": "code",
   "execution_count": null,
   "id": "97797a4e-33fa-4dc9-ab92-35cb566306e8",
   "metadata": {
    "tags": []
   },
   "outputs": [],
   "source": [
    "tf.__version__"
   ]
  },
  {
   "cell_type": "code",
   "execution_count": null,
   "id": "18a1456f-c992-43a9-b968-d7bdc028c7e6",
   "metadata": {
    "tags": []
   },
   "outputs": [],
   "source": [
    "print(\"Number of Available GPUs: \", len(tf.config.experimental.list_physical_devices('GPU')))"
   ]
  },
  {
   "cell_type": "code",
   "execution_count": null,
   "id": "c459b3a5",
   "metadata": {
    "tags": []
   },
   "outputs": [],
   "source": [
    "# change these please\n",
    "batch_size = 16\n",
    "image_size = 256\n",
    "start_neurons = 32\n",
    "\n",
    "# load the trained model\n",
    "model_path = '../trained_models/weed_detector_batch_size_{}_image_size_{}_start_neurons_{}_best_loss.h5'.format(batch_size, image_size, start_neurons)\n",
    "model = tf.keras.models.load_model(model_path)\n"
   ]
  },
  {
   "cell_type": "code",
   "execution_count": null,
   "id": "a280f7de",
   "metadata": {
    "tags": []
   },
   "outputs": [],
   "source": [
    "# read the input tif image, change here please\n",
    "image_name = './pigweed_21_JUL_2023_ortho_rgb_Clipped.tif'\n",
    "weed_img = sitk.ReadImage(image_name)"
   ]
  },
  {
   "cell_type": "code",
   "execution_count": null,
   "id": "e83eec7a",
   "metadata": {
    "tags": []
   },
   "outputs": [],
   "source": [
    "weed = sitk.GetArrayFromImage(weed_img)[:,:,0:3]\n",
    "weed[weed==0] = 255\n",
    "weed = cv2.cvtColor(weed, cv2.COLOR_BGR2RGB)"
   ]
  },
  {
   "cell_type": "code",
   "execution_count": null,
   "id": "10e232e2",
   "metadata": {
    "tags": []
   },
   "outputs": [],
   "source": [
    "height, width, channel = weed.shape"
   ]
  },
  {
   "cell_type": "code",
   "execution_count": null,
   "id": "35ee6c7b",
   "metadata": {
    "tags": []
   },
   "outputs": [],
   "source": [
    "patch_size = image_size\n",
    "grid_size_x = int(height/patch_size) - 1\n",
    "grid_size_y = int(width/patch_size ) - 1\n",
    "mask = np.zeros((height, width))"
   ]
  },
  {
   "cell_type": "code",
   "execution_count": null,
   "id": "f645f3d4",
   "metadata": {
    "tags": []
   },
   "outputs": [],
   "source": [
    "# make prediction by patch\n",
    "n = 0\n",
    "for i in range(grid_size_x):\n",
    "    for j in range(grid_size_y):\n",
    "        patch_image = weed[i*patch_size:(i+1)*patch_size, j*patch_size:(j+1)*patch_size, :]\n",
    "        \n",
    "        if np.mean(patch_image) <200:\n",
    "            slice_2d = patch_image/255.0\n",
    "            \n",
    "            slice_2d = np.expand_dims(slice_2d, axis=0)\n",
    "            seg_2d = np.squeeze(model(slice_2d).numpy())\n",
    "            mask[i*patch_size:(i+1)*patch_size, j*patch_size:(j+1)*patch_size] = seg_2d"
   ]
  },
  {
   "cell_type": "code",
   "execution_count": null,
   "id": "cdb0cb5e",
   "metadata": {},
   "outputs": [],
   "source": [
    "# save prediction as png\n",
    "cv2.imwrite(image_name.replace('.tif', '_predicted_weed_mask.png'),255*(mask>0.5))"
   ]
  },
  {
   "cell_type": "code",
   "execution_count": null,
   "id": "6715fbfb",
   "metadata": {},
   "outputs": [],
   "source": [
    "# convert prediction from png to tif format, with projected coordinate system same as the input tif image for mapping in GIS\n",
    "import os\n",
    "import numpy as np\n",
    "import rasterio\n",
    "from PIL import Image\n",
    "\n",
    "def create_tif_from_png(tif_path, png_path, output_tif_path):\n",
    "    # Read the metadata from the .tif file\n",
    "    with rasterio.open(tif_path) as tif_src:\n",
    "        meta = tif_src.meta\n",
    "\n",
    "    # Increase the image size limit for PIL\n",
    "    Image.MAX_IMAGE_PIXELS = 1 << 31\n",
    "\n",
    "    # Read the .png image using PIL\n",
    "    png_image = Image.open(png_path)\n",
    "    png_image = np.array(png_image)\n",
    "\n",
    "    # Check if the image is read successfully\n",
    "    if png_image is None:\n",
    "        print(f\"Failed to read '{png_path}'.\")\n",
    "        return\n",
    "\n",
    "    # Update the metadata to match the number of bands in the .png image\n",
    "    meta['count'] = png_image.shape[2] if len(png_image.shape) == 3 else 1\n",
    "\n",
    "    # Save the .png image as a .tif image with the same metadata\n",
    "    with rasterio.open(output_tif_path, 'w', **meta) as dst:\n",
    "        if meta['count'] == 1:\n",
    "            dst.write(png_image, 1)\n",
    "        else:\n",
    "            for band in range(meta['count']):\n",
    "                dst.write(png_image[:, :, band], band + 1)\n",
    "\n",
    "if __name__ == \"__main__\":\n",
    "    # Set the input .tif file path\n",
    "    input_tif = \"./pigweed_21_JUL_2023_ortho_rgb_Clipped.tif\"\n",
    "\n",
    "    # Set the input .png file path\n",
    "    input_png = \"./pigweed_21_JUL_2023_ortho_rgb_Clipped_predicted_weed_mask.png\"\n",
    "\n",
    "    # Set the output .tif file path\n",
    "    output_tif = \"./pigweed_21_JUL_2023_ortho_rgb_Clipped_predicted_weed_mask.tif\"\n",
    "\n",
    "    # Check if the input files exist\n",
    "    if not os.path.isfile(input_tif) or not os.path.isfile(input_png):\n",
    "        print(f\"Input file '{input_tif}' or '{input_png}' not found.\")\n",
    "    else:\n",
    "        # Create the .tif image with the same physical coordinate system as the original .tif\n",
    "        create_tif_from_png(input_tif, input_png, output_tif)\n",
    "        print(f\"Created '{output_tif}' with the same physical coordinate system as '{input_tif}'.\")\n"
   ]
  }
 ],
 "metadata": {
  "kernelspec": {
   "display_name": "Python 3 (ipykernel)",
   "language": "python",
   "name": "python3"
  },
  "language_info": {
   "codemirror_mode": {
    "name": "ipython",
    "version": 3
   },
   "file_extension": ".py",
   "mimetype": "text/x-python",
   "name": "python",
   "nbconvert_exporter": "python",
   "pygments_lexer": "ipython3",
   "version": "3.10.9"
  }
 },
 "nbformat": 4,
 "nbformat_minor": 5
}
